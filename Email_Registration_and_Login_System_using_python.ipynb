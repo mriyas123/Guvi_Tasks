{
  "nbformat": 4,
  "nbformat_minor": 0,
  "metadata": {
    "colab": {
      "provenance": [],
      "authorship_tag": "ABX9TyMOsd73/N3hvSGxh2Z4WRcz",
      "include_colab_link": true
    },
    "kernelspec": {
      "name": "python3",
      "display_name": "Python 3"
    },
    "language_info": {
      "name": "python"
    }
  },
  "cells": [
    {
      "cell_type": "markdown",
      "metadata": {
        "id": "view-in-github",
        "colab_type": "text"
      },
      "source": [
        "<a href=\"https://colab.research.google.com/github/mriyas123/Guvi_Tasks/blob/main/Email_Registration_and_Login_System_using_python.ipynb\" target=\"_parent\"><img src=\"https://colab.research.google.com/assets/colab-badge.svg\" alt=\"Open In Colab\"/></a>"
      ]
    },
    {
      "cell_type": "code",
      "execution_count": null,
      "metadata": {
        "id": "c0SsTooT3GxY"
      },
      "outputs": [],
      "source": []
    },
    {
      "cell_type": "code",
      "source": [
        "#Guvi Task1 - Registration and Login System using Python, File Handling\n",
        "def homescreen():\n",
        "  options=input(\"Please Select Register or Login \\n\")\n",
        "  if options==\"Register\":\n",
        "    registration()\n",
        "  elif options==\"Login\":\n",
        "    login()\n",
        "  else:\n",
        "    print(\"Invalid Selection\")\n",
        "    homescreen()\n",
        "\n",
        "import re\n",
        "\n",
        "def registration():\n",
        "  user_name=input(\"Enter your email id: \\n\")\n",
        "  user=\"[a-z 0-9 \\_\\.]+[@][a-z]+[\\.][a-z]{2,3}\"\n",
        "  if re.match(user,user_name):\n",
        "    print('email id you entered is valid')\n",
        "    password=input(\"Enter your password: \\n\")\n",
        "    email_conditions=\"^(?=.[a-z])(?=.[A-Z])(?=.[0-9])(?=.[^A-Za-z0-9])(?=.{5,16})\"\n",
        "    if re.match(email_conditions, password) and  5<len(password)<16:\n",
        "      print(\"your registration is successful\")\n",
        "      db=open(\"/content/sample_data/Database.txt\", 'r')\n",
        "      u_name=[]\n",
        "      p_word=[]\n",
        "      for i in db:\n",
        "        a,b=i.split(\",\")\n",
        "        b=b.strip()\n",
        "        u_name.append(a)\n",
        "        p_word.append(b)\n",
        "      File = dict(zip(u_name, p_word))\n",
        "      if user_name in u_name:\n",
        "        print(\"id already exist\")\n",
        "        homescreen()\n",
        "      else:\n",
        "        print(\"enter a valid password\", password)\n",
        "  else:\n",
        "    print(\"please enter a valid user email id\")\n",
        "    registration()\n",
        "\n",
        "  db=open(\"/content/sample_data/Database.txt\", 'a')\n",
        "  db.write(user_name+\", \" +password+\"\\n\")\n",
        "  print('Your Registration is Successful')\n",
        "\n",
        "def login():\n",
        "  user_name=input(\"Enter your user email id: \\n\")\n",
        "  password=input(\"Enter your password: \\n\")\n",
        "  db=open(\"/content/sample_data/Database.txt\", 'r')    \n",
        "  u_name=[]\n",
        "  p_word=[]\n",
        "  for i in db:\n",
        "    a,b=i.split(\", \")\n",
        "    b=b.strip()\n",
        "    u_name.append(a)\n",
        "    p_word.append(b)\n",
        "  File = dict(zip(u_name, p_word))\n",
        "  if user_name in u_name:\n",
        "    if password == File[user_name]:\n",
        "      print(\"you have successfully logged in\")  \n",
        "      print(\"welcome back\", user_name)\n",
        "    else:\n",
        "      print(\"Password Invalid\")\n",
        "      print(\"Forgot password\")\n",
        "      print(\"please enter yes\")\n",
        "      forgot_password=input()\n",
        "      yes=u_name[p_word]\n",
        "      if (forgot_password==yes):\n",
        "        print(yes) \n",
        "      else:\n",
        "        print(\"please enter the vaild input \\n\",forgot_password)\n",
        "  else:\n",
        "    print(\"id does not exist\")\n",
        "    print(\"Kindly register your account\")\n",
        "    registration()\n"
      ],
      "metadata": {
        "id": "37K1LFnBvK9N"
      },
      "execution_count": null,
      "outputs": []
    }
  ]
}